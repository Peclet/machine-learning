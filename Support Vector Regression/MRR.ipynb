{
 "cells": [
  {
   "cell_type": "code",
   "execution_count": 1,
   "metadata": {},
   "outputs": [],
   "source": [
    "import numpy as np\n",
    "import pandas as pd\n",
    "import matplotlib.pyplot as plt\n",
    "np.random.seed(4)"
   ]
  },
  {
   "cell_type": "code",
   "execution_count": 2,
   "metadata": {},
   "outputs": [],
   "source": [
    "Data = pd.read_excel('data2.xlsx',header=None)\n",
    "Data = Data.dropna(axis='columns') "
   ]
  },
  {
   "cell_type": "code",
   "execution_count": 3,
   "metadata": {},
   "outputs": [],
   "source": [
    "#X = Data.iloc[1:,6:25]\n",
    "X = Data.iloc[1:,[6,7,9,16,18,19]]\n",
    "#X = Data1.iloc[1:,[7,8,9,11,13,16,19,21,22,24]]\n",
    "#X = Data.iloc[1:,[7,8,9,12,13,16,18,19,20,22]]\n",
    "Y = Data.iloc[1:,[25]]"
   ]
  },
  {
   "cell_type": "code",
   "execution_count": 4,
   "metadata": {},
   "outputs": [],
   "source": [
    "\n",
    "Y=Y.astype(float) \n",
    "X=X.astype(float)\n",
    "X = X.to_numpy() #convert data frame to numpy array\n",
    "Y = Y.to_numpy()"
   ]
  },
  {
   "cell_type": "code",
   "execution_count": 5,
   "metadata": {},
   "outputs": [],
   "source": [
    "# data normalization \n",
    "\n",
    "#normalization to [0 1] range\n",
    "for i in range(X.shape[1]):\n",
    "    data_ = X[:,i]\n",
    "    X[:,i] = (data_-np.amin(data_))/(np.amax(data_)-np.amin(data_)) *0.9 +0.05 \n",
    "\n",
    "const = np.ones((len(X),1)) #this is to create a constant besides the variables\n",
    "\n",
    "X = np.concatenate((X,const),axis = 1)"
   ]
  },
  {
   "cell_type": "code",
   "execution_count": 6,
   "metadata": {},
   "outputs": [],
   "source": [
    "# split training and testing data\n",
    "\n",
    "index = np.arange(len(Y))\n",
    "np.random.shuffle(index) #disorder the original data\n",
    "\n",
    "m = np.ceil(0.7*len(Y)) # 80% for training and 20% for testing\n",
    "m = int(m) #covert float type to int type\n",
    "X_Train = X[index[0:m],:] #get 80% data for training\n",
    "Y_Train = Y[index[0:m]]\n",
    "\n",
    "X_Test = X[index[m:],:] #remaining 20% data for training\n",
    "Y_Test = Y[index[m:]]\n",
    "Y_Train = Y_Train.reshape([Y_Train.shape[0],])"
   ]
  },
  {
   "cell_type": "code",
   "execution_count": 7,
   "metadata": {},
   "outputs": [],
   "source": [
    "# define cost function\n",
    "def cost_function(X, Y, B):\n",
    "    J = np.sum((X.dot(B)-Y)**2)/(2*len(Y)) \n",
    "    return J"
   ]
  },
  {
   "cell_type": "code",
   "execution_count": 8,
   "metadata": {},
   "outputs": [],
   "source": [
    "\n",
    "# create iterative gradient descent training\n",
    "\n",
    "def gradient_descent(X, Y, B, alpha, iterations):\n",
    "    cost_history = np.zeros(iterations)\n",
    "    \n",
    "    for iteration in range(iterations):\n",
    "        loss = X.dot(B) - Y\n",
    "        gradient = X.T.dot(loss)/len(Y)\n",
    "        B = B - alpha * gradient\n",
    "        cost = cost_function(X, Y, B)\n",
    "        cost_history[iteration] = cost \n",
    "    \n",
    "    return B, cost_history"
   ]
  },
  {
   "cell_type": "code",
   "execution_count": 9,
   "metadata": {},
   "outputs": [
    {
     "data": {
      "text/plain": [
       "[<matplotlib.lines.Line2D at 0x25d0d49a588>]"
      ]
     },
     "execution_count": 9,
     "metadata": {},
     "output_type": "execute_result"
    },
    {
     "data": {
      "image/png": "[encoded data removed]",
      "text/plain": [
       "<Figure size 432x288 with 1 Axes>"
      ]
     },
     "metadata": {
      "needs_background": "light"
     },
     "output_type": "display_data"
    }
   ],
   "source": [
    "# training\n",
    "B = np.random.random(X_Train.shape[1]) # Initial Coefficients\n",
    "alpha =0.1\n",
    "iter_ = 20000\n",
    "newB, cost_history = gradient_descent(X_Train, Y_Train, B, alpha, iter_)\n",
    "\n",
    "plt.plot(np.arange(iter_), cost_history)"
   ]
  },
  {
   "cell_type": "code",
   "execution_count": 10,
   "metadata": {},
   "outputs": [
    {
     "data": {
      "text/plain": [
       "[<matplotlib.lines.Line2D at 0x25d0d912308>]"
      ]
     },
     "execution_count": 10,
     "metadata": {},
     "output_type": "execute_result"
    },
    {
     "data": {
      "image/png": "[encoded data removed]",
      "text/plain": [
       "<Figure size 432x288 with 1 Axes>"
      ]
     },
     "metadata": {
      "needs_background": "light"
     },
     "output_type": "display_data"
    }
   ],
   "source": [
    "\n",
    "# testing \n",
    "y_predicted = X_Test.dot(newB)\n",
    "plt.scatter(Y_Test, y_predicted,c = 'b',marker = 'o')\n",
    "plt.plot([Y.min(), Y.max()],[Y.min(), Y.max()],'k-')"
   ]
  },
  {
   "cell_type": "code",
   "execution_count": 11,
   "metadata": {},
   "outputs": [],
   "source": [
    "y_predicted = y_predicted.reshape([y_predicted.shape[0],1])"
   ]
  },
  {
   "cell_type": "code",
   "execution_count": 12,
   "metadata": {},
   "outputs": [],
   "source": [
    "\n",
    "# performance evaluation\n",
    "def r2(y_predicted,y):\n",
    "    sst = np.sum((y-y.mean())**2)\n",
    "    ssr = np.sum((y_predicted-y)**2)\n",
    "    r2 = 1-(ssr/sst)\n",
    "    return(r2)\n",
    "def rmse(y_predicted,y):\n",
    "    ssr = np.sum((y_predicted-y)**2)\n",
    "    rmse= (ssr/len(y))**0.5\n",
    "    return(rmse)"
   ]
  },
  {
   "cell_type": "code",
   "execution_count": 13,
   "metadata": {},
   "outputs": [
    {
     "name": "stdout",
     "output_type": "stream",
     "text": [
      "6.181019732524981 0.5053529816250626\n"
     ]
    }
   ],
   "source": [
    "print(rmse(y_predicted, Y_Test),r2(y_predicted, Y_Test))"
   ]
  },
  {
   "cell_type": "code",
   "execution_count": 14,
   "metadata": {},
   "outputs": [
    {
     "data": {
      "text/plain": [
       "array([0.09604514, 0.44633362, 0.73085403, 0.75221384, 0.16327423,\n",
       "       0.16664436, 0.60992117])"
      ]
     },
     "execution_count": 14,
     "metadata": {},
     "output_type": "execute_result"
    }
   ],
   "source": [
    "B"
   ]
  }
 ],
 "metadata": {
  "kernelspec": {
   "display_name": "Python 3",
   "language": "python",
   "name": "python3"
  },
  "language_info": {
   "codemirror_mode": {
    "name": "ipython",
    "version": 3
   },
   "file_extension": ".py",
   "mimetype": "text/x-python",
   "name": "python",
   "nbconvert_exporter": "python",
   "pygments_lexer": "ipython3",
   "version": "3.7.4"
  }
 },
 "nbformat": 4,
 "nbformat_minor": 2
}

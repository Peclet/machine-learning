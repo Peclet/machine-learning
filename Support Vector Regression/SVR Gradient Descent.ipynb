{
 "cells": [
  {
   "cell_type": "markdown",
   "metadata": {},
   "source": [
    "## Load Data"
   ]
  },
  {
   "cell_type": "code",
   "execution_count": 1,
   "metadata": {},
   "outputs": [],
   "source": [
    "import numpy as np\n",
    "import pandas as pd\n",
    "from matplotlib import pyplot as plt\n",
    "#import seaborn as sns; sns.set()\n",
    "np.random.seed(1)\n",
    "#Gamma = 10"
   ]
  },
  {
   "cell_type": "code",
   "execution_count": 2,
   "metadata": {},
   "outputs": [],
   "source": [
    "Data = pd.read_excel('data2.xlsx',header=None)\n",
    "Data = Data.dropna(axis='columns') \n",
    "X = Data.iloc[1:,6:25]\n",
    "Y = Data.iloc[1:,[25]]"
   ]
  },
  {
   "cell_type": "code",
   "execution_count": 3,
   "metadata": {},
   "outputs": [],
   "source": [
    "#import seaborn as sns; sns.set(style=\"ticks\", color_codes=True,font_scale = 1.5)\n",
    "#plt.figure(figsize=(18,12))\n",
    "#cor = Data.iloc[1:,6:27].corr()\n",
    "#ax = sns.heatmap(cor, cmap='coolwarm', square=True,  linewidths=1, linecolor='black')"
   ]
  },
  {
   "cell_type": "markdown",
   "metadata": {},
   "source": [
    "# Feature Selection"
   ]
  },
  {
   "cell_type": "code",
   "execution_count": 4,
   "metadata": {
    "scrolled": true
   },
   "outputs": [],
   "source": [
    "#Using Pearson Correlation\n",
    "#plt.figure(figsize=(18,12))\n",
    "#cor = Data.iloc[1:,6:27].corr()\n",
    "#sns.heatmap(cor,annot=True, vmin=-1, vmax=1, center= 0, square=False,cbar=False, linewidths=1, linecolor='black',fmt='.1g', cmap='coolwarm')\n",
    "#plt.show()"
   ]
  },
  {
   "cell_type": "code",
   "execution_count": 5,
   "metadata": {},
   "outputs": [],
   "source": [
    "#Correlation with output variable\n",
    "#cor = Data.iloc[1:,6:27].corr()\n",
    "#cor_target = abs(cor[25])\n",
    "#Selecting highly correlated features\n",
    "#relevant_features = cor_target[cor_target>0.2]\n",
    "#relevant_features"
   ]
  },
  {
   "cell_type": "code",
   "execution_count": 6,
   "metadata": {},
   "outputs": [],
   "source": [
    "#import seaborn as sns; sns.set(style=\"ticks\", color_codes=True,font_scale = 1.5)\n",
    "#sns_plot = sns.pairplot(Datda.iloc[1:,[6,7,9,15,16, 25]], palette=\"husl\", size=3.5, dropna=True)"
   ]
  },
  {
   "cell_type": "markdown",
   "metadata": {},
   "source": [
    "## Normalization"
   ]
  },
  {
   "cell_type": "code",
   "execution_count": 7,
   "metadata": {},
   "outputs": [],
   "source": [
    "#X = Data2.iloc[1:,6:24]\n",
    "X = Data.iloc[1:,[7,9]]\n",
    "\n",
    "Y = Data.iloc[1:,[25]]"
   ]
  },
  {
   "cell_type": "code",
   "execution_count": 8,
   "metadata": {},
   "outputs": [
    {
     "name": "stdout",
     "output_type": "stream",
     "text": [
      "(812, 2) (812, 1)\n"
     ]
    }
   ],
   "source": [
    "X = X.to_numpy() #convert data frame to numpy array\n",
    "Y = Y.to_numpy()\n",
    "\n",
    "print(X.shape, Y.shape)"
   ]
  },
  {
   "cell_type": "code",
   "execution_count": 9,
   "metadata": {},
   "outputs": [],
   "source": [
    "# data normalization \n",
    "\n",
    "#normalization to gaussian distribution\n",
    "#from sklearn.preprocessing import StandardScaler\n",
    "#sc = StandardScaler() # (x - u) / s\n",
    "#X = sc.fit_transform(X)\n",
    "\n",
    "# data normalization, normalization to [0 1] range\n",
    "X_Norm = np.empty_like(X)\n",
    "for i in range(X.shape[1]):\n",
    "    data_ = X[:,i]\n",
    "    X_Norm[:,i] = (data_-np.amin(data_))/(np.amax(data_)-np.amin(data_)) \n",
    "    \n",
    "# normalize Y data\n",
    "Y_Min = np.amin(Y)\n",
    "Y_Max = np.amax(Y)\n",
    "Y_Norm = (Y-Y_Min)/(Y_Max-Y_Min)"
   ]
  },
  {
   "cell_type": "markdown",
   "metadata": {},
   "source": [
    "## Split, Train, Test"
   ]
  },
  {
   "cell_type": "code",
   "execution_count": 10,
   "metadata": {},
   "outputs": [],
   "source": [
    "Gamma = 30\n",
    "# prepare variables and target\n",
    "\n",
    "index = np.arange(len(Y))\n",
    "np.random.shuffle(index) #disorder the original data\n",
    "\n",
    "m = np.ceil(0.7*len(Y)) # 70% for training and 30% for testing\n",
    "m = int(m) #covert float type to int type\n",
    "X_Train = X_Norm[index[:m]]\n",
    "Y_Train = Y_Norm[index[:m]]\n",
    "\n",
    "\n",
    "X_Test = X_Norm[index[m:]]\n",
    "Y_Test = Y_Norm[index[m:]]\n",
    "Y_Train = Y_Train.reshape([Y_Train.shape[0],])\n",
    "Y \n",
    "# kernel transformation\n",
    "import sklearn.metrics.pairwise as pw\n",
    "X_Train_Kernel = pw.rbf_kernel(X_Train, X_Train, gamma = Gamma)\n",
    "X_Test_Kernel = pw.rbf_kernel(X_Test, X_Train, gamma = Gamma)"
   ]
  },
  {
   "cell_type": "code",
   "execution_count": 11,
   "metadata": {},
   "outputs": [],
   "source": [
    "\n",
    "# define loss function, Mean Square Error (MSE) + margin\n",
    "\n",
    "def cost_function(X, Y, B):\n",
    "    J = np.sum((X.dot(B)-Y)**2)/(2*len(Y))+ lamda * B.dot(B)  \n",
    "    return J"
   ]
  },
  {
   "cell_type": "code",
   "execution_count": 12,
   "metadata": {},
   "outputs": [],
   "source": [
    "\n",
    "# create iterative gradient descent training\n",
    "\n",
    "def gradient_descent(X, Y, B, alpha, lamda, iterations):\n",
    "    cost_history = np.zeros(iterations)\n",
    "    \n",
    "    for iteration in range(iterations):\n",
    "        loss = X.dot(B) - Y\n",
    "        gradient = X.T.dot(loss)/len(Y) + 2* lamda *B\n",
    "        B = B - alpha * gradient\n",
    "        cost = cost_function(X, Y, B)\n",
    "        cost_history[iteration] = cost\n",
    "    \n",
    "    return B, cost_history"
   ]
  },
  {
   "cell_type": "code",
   "execution_count": 13,
   "metadata": {},
   "outputs": [
    {
     "data": {
      "text/plain": [
       "[<matplotlib.lines.Line2D at 0x283e1f3cb88>]"
      ]
     },
     "execution_count": 13,
     "metadata": {},
     "output_type": "execute_result"
    },
    {
     "data": {
      "image/png": "[encoded data removed]",
      "text/plain": [
       "<Figure size 432x288 with 1 Axes>"
      ]
     },
     "metadata": {
      "needs_background": "light"
     },
     "output_type": "display_data"
    }
   ],
   "source": [
    "# training\n",
    "\n",
    "B = np.random.random(X_Train_Kernel.shape[1]) # Initial Coefficients\n",
    "alpha = 0.1 #learning rate\n",
    "iter_ = 50000\n",
    "lamda =  0.001 #1/iter_ #balancing coefficient\n",
    "newB, cost_history = gradient_descent(X_Train_Kernel, Y_Train, B, alpha, lamda, iter_)\n",
    "plt.plot(np.arange(iter_), cost_history)"
   ]
  },
  {
   "cell_type": "code",
   "execution_count": 14,
   "metadata": {},
   "outputs": [
    {
     "data": {
      "text/plain": [
       "[<matplotlib.lines.Line2D at 0x283e1fad848>]"
      ]
     },
     "execution_count": 14,
     "metadata": {},
     "output_type": "execute_result"
    },
    {
     "data": {
      "image/png": "[encoded data removed]",
      "text/plain": [
       "<Figure size 432x288 with 1 Axes>"
      ]
     },
     "metadata": {
      "needs_background": "light"
     },
     "output_type": "display_data"
    }
   ],
   "source": [
    "# testing \n",
    "y_predict = X_Test_Kernel.dot(newB)\n",
    "y_predicted = y_predict * (Y_Max - Y_Min) + Y_Min\n",
    "Y_Test = Y_Test * (Y_Max - Y_Min) + Y_Min\n",
    "plt.scatter(y_predicted, Y_Test, c = 'b',marker = 'o')\n",
    "plt.xlim(Y_Min, Y_Max)\n",
    "plt.ylim(Y_Min, Y_Max)\n",
    "plt.plot([Y_Min, Y_Max],[Y_Min, Y_Max],'k-')"
   ]
  },
  {
   "cell_type": "code",
   "execution_count": 15,
   "metadata": {},
   "outputs": [
    {
     "name": "stdout",
     "output_type": "stream",
     "text": [
      "6.389536285645955 0.6348591172227351\n"
     ]
    }
   ],
   "source": [
    "y_predicted = y_predicted.reshape([y_predicted.shape[0],1])\n",
    "# performance evaluation\n",
    "# performance evaluation\n",
    "def r2(y_predicted,y):\n",
    "    sst = np.sum((y-y.mean())**2)\n",
    "    ssr = np.sum((y_predicted-y)**2)\n",
    "    r2 = 1-(ssr/sst)\n",
    "    return(r2)\n",
    "def rmse(y_predicted,y):\n",
    "    ssr = np.sum((y_predicted-y)**2)\n",
    "    rmse= (ssr/len(y))**0.5\n",
    "    return(rmse)\n",
    "print(rmse(y_predicted, Y_Test),r2(y_predicted, Y_Test))"
   ]
  }
 ],
 "metadata": {
  "kernelspec": {
   "display_name": "Python 3",
   "language": "python",
   "name": "python3"
  },
  "language_info": {
   "codemirror_mode": {
    "name": "ipython",
    "version": 3
   },
   "file_extension": ".py",
   "mimetype": "text/x-python",
   "name": "python",
   "nbconvert_exporter": "python",
   "pygments_lexer": "ipython3",
   "version": "3.7.4"
  }
 },
 "nbformat": 4,
 "nbformat_minor": 2
}
